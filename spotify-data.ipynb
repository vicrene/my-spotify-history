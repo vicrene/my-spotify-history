{
 "cells": [
  {
   "cell_type": "code",
   "execution_count": 15,
   "metadata": {},
   "outputs": [],
   "source": [
    "import pandas as pd\n",
    "\n",
    "\n",
    "# most streams and mins played per artist\n",
    "# read in the data\n",
    "df = pd.read_csv('StreamingHistory.csv')\n",
    "\n",
    "# group the data by artist and track\n",
    "grouped = df.groupby(['artistName', 'trackName'])\n",
    "\n",
    "# calculate the total number of streams and the total number of minutes played\n",
    "result = grouped.agg({'minsPlayed': 'sum', 'artistName': 'count'})\n",
    "\n",
    "# rename the columns\n",
    "result.columns = ['total_mins_played', 'total_streams']\n",
    "\n",
    "# reset the index\n",
    "result = result.reset_index()\n",
    "\n",
    "# save the result to a new file\n",
    "result.to_csv('result.csv', index=False)"
   ]
  },
  {
   "cell_type": "code",
   "execution_count": 20,
   "metadata": {},
   "outputs": [],
   "source": [
    "#ranking top three artists per month \n",
    "\n",
    "# read the csv file into a DataFrame\n",
    "df2 = pd.read_csv('StreamingHistory.csv')\n",
    "\n",
    "# convert the endTime column to a datetime object\n",
    "df2['endTime'] = pd.to_datetime(df2['endTime'])\n",
    "\n",
    "# create a new column with the month and year of each entry\n",
    "df2['month'] = df2['endTime'].dt.strftime('%Y-%m')\n",
    "\n",
    "# group the DataFrame by month and artistName, and calculate the total minutes played\n",
    "grouped2 = df2.groupby(['month', 'artistName']).agg({'minsPlayed': 'sum'})\n",
    "\n",
    "# sort the values by month and total minutes played\n",
    "sorted_df = grouped2.sort_values(['month', 'minsPlayed'], ascending=[True, False])\n",
    "\n",
    "# rank the artists within each month\n",
    "sorted_df['rank'] = sorted_df.groupby('month')['minsPlayed'].rank(ascending=False, method='dense')\n",
    "\n",
    "# filter for the top 3 artists in each month\n",
    "top_artists = sorted_df[sorted_df['rank'] <= 3]\n",
    "\n",
    "# reset the index and rename the columns\n",
    "top_artists = top_artists.reset_index()\n",
    "top_artists.columns = ['month', 'artistName', 'totalMins', 'rank']\n",
    "\n",
    "# export to a csv file\n",
    "top_artists.to_csv('top_artists_per_month.csv', index=False)\n",
    "\n",
    "\n"
   ]
  }
 ],
 "metadata": {
  "kernelspec": {
   "display_name": "Python 3",
   "language": "python",
   "name": "python3"
  },
  "language_info": {
   "codemirror_mode": {
    "name": "ipython",
    "version": 3
   },
   "file_extension": ".py",
   "mimetype": "text/x-python",
   "name": "python",
   "nbconvert_exporter": "python",
   "pygments_lexer": "ipython3",
   "version": "3.10.10"
  },
  "orig_nbformat": 4,
  "vscode": {
   "interpreter": {
    "hash": "369f2c481f4da34e4445cda3fffd2e751bd1c4d706f27375911949ba6bb62e1c"
   }
  }
 },
 "nbformat": 4,
 "nbformat_minor": 2
}
